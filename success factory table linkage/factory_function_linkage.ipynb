{
 "cells": [
  {
   "cell_type": "code",
   "execution_count": 5,
   "metadata": {},
   "outputs": [],
   "source": [
    "import pandas as pd\n",
    "pd.set_option(\"display.width\",1000)"
   ]
  },
  {
   "cell_type": "code",
   "execution_count": 6,
   "metadata": {},
   "outputs": [],
   "source": [
    "visit_factory = pd.read_csv(\"Event - Visit Factory.csv\")\n",
    "factory_product_click = pd.read_csv(\"Event - Factory Product Click.csv\")\n",
    "product_view = pd.read_csv(\"Event - Product View.csv\")"
   ]
  },
  {
   "cell_type": "code",
   "execution_count": 7,
   "metadata": {},
   "outputs": [],
   "source": [
    "def factory_linkage(visit_factory,factory_product_click,product_view):\n",
    "    def correct_timestamp(ts):\n",
    "        if ts[11:13] == \"24\":\n",
    "            ts = ts[:11] + \"00\" + ts[13:]  # Replace '24' with '00'\n",
    "            corrected_datetime = pd.to_datetime(ts, format=\"%Y/%m/%d/%H/%M/%S\")\n",
    "        else:\n",
    "            corrected_datetime = pd.to_datetime(ts, format=\"%Y/%m/%d/%H/%M/%S\")\n",
    "        return corrected_datetime\n",
    "\n",
    "\n",
    "    # Correcting the format for datetime conversion\n",
    "    visit_factory['event_timestamp'] = visit_factory['event_timestamp'].apply(correct_timestamp)\n",
    "    factory_product_click['event_timestamp'] = factory_product_click['event_timestamp'].apply(correct_timestamp)\n",
    "\n",
    "    # Perform the operation again with corrected datetime format and directly select relevant columns post-query\n",
    "    cross_joined_df = factory_product_click.assign(key=1).merge(\n",
    "        visit_factory.assign(key=1),\n",
    "        on='key',\n",
    "        suffixes=('_fp_click', '_visit')\n",
    "    ).query(\n",
    "        \"customer_id_fp_click == customer_id_visit & \"\n",
    "        \"ga_session_id_fp_click == ga_session_id_visit & \"\n",
    "        \"event_timestamp_fp_click > event_timestamp_visit\"\n",
    "    )\n",
    "\n",
    "    # Find the closest visit event for each product click event and directly select relevant columns\n",
    "    final_df = cross_joined_df.groupby(['cookie_id_fp_click', 'event_timestamp_fp_click'], as_index=False).apply(\n",
    "        lambda x: x.loc[(x['event_timestamp_fp_click'] - x['event_timestamp_visit']).idxmin()]\n",
    "    ).reset_index(drop=True)[['report_date_fp_click', 'cookie_id_fp_click', 'customer_id_fp_click',\n",
    "                              'ga_session_id_fp_click', 'event_timestamp_fp_click', 'event_name_fp_click',\n",
    "                              'event_value_fp_click', 'event_timestamp_visit', 'event_value_visit']]\n",
    "\n",
    "# Rename, remove, and reorder columns\n",
    "    final_df = final_df.rename(columns={\n",
    "        'report_date_fp_click': 'report_date',\n",
    "        'cookie_id_fp_click': 'cookie_id',\n",
    "        'customer_id_fp_click': 'customer_id',\n",
    "        'ga_session_id_fp_click': 'ga_session_id',\n",
    "        'event_timestamp_fp_click': 'event_timestamp_click',\n",
    "        'event_value_fp_click': 'factory_product_click',\n",
    "        'event_timestamp_visit': 'event_timestamp_visit',\n",
    "        'event_value_visit': 'visit_factory'\n",
    "    })[[\n",
    "        'report_date', \n",
    "        'customer_id', \n",
    "        'cookie_id', \n",
    "        'ga_session_id',  \n",
    "        'event_timestamp_visit',\n",
    "        'visit_factory',\n",
    "        'event_timestamp_click',\n",
    "        'factory_product_click'\n",
    "    ]]\n",
    "\n",
    "    result_df = visit_factory.merge(\n",
    "        final_df,\n",
    "        left_on=['customer_id', 'ga_session_id', 'event_timestamp'],\n",
    "        right_on=['customer_id', 'ga_session_id', 'event_timestamp_visit'],\n",
    "        how='left'\n",
    "    ).drop(['report_date_y', 'cookie_id_y', 'event_timestamp_visit', 'visit_factory'], axis=1) \\\n",
    "    .rename(columns={'event_value': 'visit_factory'})\n",
    "\n",
    "    # Process the event_value column in product_view, splitting it into product_name and product_id, then remove the original event_value column\n",
    "    product_view[['product_name', 'product_id']] = product_view['event_value'].str.split('\\|\\|\\|', expand=True)\n",
    "    product_view = product_view.drop(columns=['event_value']).drop_duplicates(subset=['product_name', 'product_id'])\n",
    "    product_view['product_name'] = product_view['product_name'].str.strip()\n",
    "\n",
    "    # Perform a left join between result_df and distinct_products, then remove duplicate product_name columns\n",
    "    merged_df = result_df.merge(\n",
    "        product_view,\n",
    "        how='left',\n",
    "        left_on='factory_product_click',\n",
    "        right_on='product_name'\n",
    "    ).drop(columns=['product_name','event_name_x', 'report_date', 'cookie_id', 'customer_id_y', 'ga_session_id_y','event_timestamp_y','event_name_y'])\n",
    "\n",
    "    merged_df.rename(columns={col: col.replace('_x', '') for col in merged_df.columns if '_x' in col}, inplace=True)\n",
    "\n",
    "    return merged_df"
   ]
  },
  {
   "cell_type": "code",
   "execution_count": 8,
   "metadata": {},
   "outputs": [],
   "source": [
    "full_join = factory_linkage(visit_factory,factory_product_click,product_view)\n",
    "full_join.to_csv(\"full_join.csv\")"
   ]
  },
  {
   "cell_type": "code",
   "execution_count": null,
   "metadata": {},
   "outputs": [],
   "source": []
  }
 ],
 "metadata": {
  "kernelspec": {
   "display_name": "Python 3",
   "language": "python",
   "name": "python3"
  },
  "language_info": {
   "codemirror_mode": {
    "name": "ipython",
    "version": 3
   },
   "file_extension": ".py",
   "mimetype": "text/x-python",
   "name": "python",
   "nbconvert_exporter": "python",
   "pygments_lexer": "ipython3",
   "version": "3.11.2"
  }
 },
 "nbformat": 4,
 "nbformat_minor": 2
}
