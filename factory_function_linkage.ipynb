{
 "cells": [
  {
   "cell_type": "code",
   "execution_count": 58,
   "metadata": {},
   "outputs": [],
   "source": [
    "import pandas as pd\n",
    "pd.set_option(\"display.width\",1000)\n",
    "\n",
    "xls = pd.ExcelFile('customer_factory_14499.xlsx')\n",
    "\n",
    "# 如果你想读取所有的工作表，可以遍历sheet_names\n",
    "all_dfs = {sheet_name: pd.read_excel('customer_factory_14499.xlsx', sheet_name=sheet_name) for sheet_name in pd.ExcelFile('customer_factory_14499.xlsx').sheet_names}"
   ]
  },
  {
   "cell_type": "code",
   "execution_count": 59,
   "metadata": {},
   "outputs": [],
   "source": [
    "visit_factory = all_dfs[\"Event - Visit Factory\"]\n",
    "factory_product_click = all_dfs[\"Event - Factory Product Click\"]\n",
    "product_view = all_dfs[\"Event - Product View\"]\n",
    "\n",
    "\n",
    "visit_factory['event_timestamp'] = pd.to_datetime(visit_factory['event_timestamp'], format='%Y/%m/%d/%H/%M/%S')\n",
    "factory_product_click['event_timestamp'] = pd.to_datetime(factory_product_click['event_timestamp'], format='%Y/%m/%d/%H/%M/%S')\n"
   ]
  },
  {
   "cell_type": "code",
   "execution_count": 60,
   "metadata": {},
   "outputs": [
    {
     "name": "stdout",
     "output_type": "stream",
     "text": [
      "  report_date     cookie_id  customer_id  ga_session_id     event_timestamp             event_name             event_value\n",
      "0  2023-12-06  2.444236e+08        14499     1701895272 2023-12-06 12:41:56  Event - Visit Factory         Novel Nutrients\n",
      "1  2023-12-06  2.444236e+08        14499     1701901610 2023-12-06 14:35:09  Event - Visit Factory  Qimei Industrial Group\n",
      "2  2023-12-06  2.444236e+08        14499     1701901610 2023-12-06 14:40:32  Event - Visit Factory  Qimei Industrial Group\n",
      "3  2023-12-06  2.444236e+08        14499     1701901610 2023-12-06 14:42:10  Event - Visit Factory  Qimei Industrial Group\n",
      "4  2023-12-06  2.444236e+08        14499     1701904533 2023-12-06 15:17:57  Event - Visit Factory  Qimei Industrial Group\n"
     ]
    }
   ],
   "source": [
    "print(visit_factory.head(5))"
   ]
  },
  {
   "cell_type": "code",
   "execution_count": 61,
   "metadata": {},
   "outputs": [
    {
     "name": "stdout",
     "output_type": "stream",
     "text": [
      "  report_date     cookie_id  customer_id  ga_session_id     event_timestamp                     event_name                                        event_value\n",
      "0  2023-12-06  2.444236e+08        14499     1701895272 2023-12-06 12:42:30  Event - Factory Product Click  Ashwagandha Extract 10% Withanolides by Gravim...\n",
      "1  2023-12-06  2.444236e+08        14499     1701901610 2023-12-06 14:39:55  Event - Factory Product Click                                  Allulose by Qimei\n",
      "2  2023-12-06  2.444236e+08        14499     1701904533 2023-12-06 15:17:02  Event - Factory Product Click              Organic Red Beet Root Powder by Qimei\n",
      "3  2023-12-06  2.444236e+08        14499     1701904533 2023-12-06 15:25:25  Event - Factory Product Click  Moringa Oleifera Leaf Extract 30% Saponnins by...\n",
      "4  2023-12-06  2.444236e+08        14499     1701904533 2023-12-06 15:27:43  Event - Factory Product Click  Organic Tribulus Terrestris Powder Steam Treat...\n"
     ]
    }
   ],
   "source": [
    "print(factory_product_click.head(5))"
   ]
  },
  {
   "cell_type": "code",
   "execution_count": 62,
   "metadata": {},
   "outputs": [
    {
     "name": "stdout",
     "output_type": "stream",
     "text": [
      "  report_date     cookie_id  customer_id  ga_session_id      event_timestamp            event_name                                        event_value\n",
      "0  2023-12-06  2.444236e+08        14499     1701885460  2023/12/06/10/02/06  Event - Product View  Organic Tart Cherry Extract 10:1 by Hunan Huak...\n",
      "1  2023-12-06  2.444236e+08        14499     1701885460  2023/12/06/10/11/27  Event - Product View  Epimedium Icariin 10% by Ingredients by Nature...\n",
      "2  2023-12-06  2.444236e+08        14499     1701885460  2023/12/06/10/14/21  Event - Product View  Selenium Yeast Powder 2000ppm by Angel Yeast |...\n",
      "3  2023-12-06  2.444236e+08        14499     1701889077  2023/12/06/10/58/31  Event - Product View  L-Selenomethionine 5000 DCP (Selenium 0.5%) by...\n",
      "4  2023-12-06  2.444236e+08        14499     1701889077  2023/12/06/10/59/05  Event - Product View  L-Selenomethionine 5000 MD (Selenium 0.5%) by ...\n"
     ]
    }
   ],
   "source": [
    "print(product_view.head(5))"
   ]
  },
  {
   "cell_type": "code",
   "execution_count": 63,
   "metadata": {},
   "outputs": [],
   "source": [
    "# Correcting the format for datetime conversion\n",
    "visit_factory['event_timestamp'] = pd.to_datetime(visit_factory['event_timestamp'], format='%Y/%m/%d/%H/%M/%S')\n",
    "factory_product_click['event_timestamp'] = pd.to_datetime(factory_product_click['event_timestamp'], format='%Y/%m/%d/%H/%M/%S')\n",
    "\n",
    "# Perform the operation again with corrected datetime format\n",
    "cross_joined_df = factory_product_click.assign(key=1).merge(\n",
    "    visit_factory.assign(key=1),\n",
    "    on='key',\n",
    "    suffixes=('_fp_click', '_visit')\n",
    ").query(\n",
    "    \"customer_id_fp_click == customer_id_visit & \"\n",
    "    \"ga_session_id_fp_click == ga_session_id_visit & \"\n",
    "    \"event_timestamp_fp_click > event_timestamp_visit\"\n",
    ")\n",
    "\n",
    "# Find the closest visit event for each product click event\n",
    "closest_matches = cross_joined_df.groupby(['cookie_id_fp_click', 'event_timestamp_fp_click'], as_index=False).apply(\n",
    "    lambda x: x.loc[(x['event_timestamp_fp_click'] - x['event_timestamp_visit']).idxmin()]\n",
    ").reset_index(drop=True)\n",
    "\n",
    "# Selecting relevant columns for clarity and removing duplicate columns from join\n",
    "final_df = closest_matches[['report_date_fp_click', 'cookie_id_fp_click', 'customer_id_fp_click',\n",
    "                            'ga_session_id_fp_click', 'event_timestamp_fp_click', 'event_name_fp_click',\n",
    "                            'event_value_fp_click', 'event_timestamp_visit', 'event_value_visit']]\n",
    "\n",
    "final_df = final_df.rename(columns={\n",
    "    'report_date_fp_click': 'report_date',\n",
    "    'cookie_id_fp_click': 'cookie_id',\n",
    "    'customer_id_fp_click': 'customer_id',\n",
    "    'ga_session_id_fp_click': 'ga_session_id',\n",
    "    'event_timestamp_fp_click': 'event_timestamp_click',\n",
    "    'event_name_fp_click': 'event_name',\n",
    "    'event_value_fp_click': 'factory_product_click',\n",
    "    'event_timestamp_visit': 'event_timestamp_visit',\n",
    "    'event_value_visit': 'visit_factory'\n",
    "})\n",
    "\n",
    "# Drop the 'event_name' column\n",
    "final_df.drop('event_name', axis=1, inplace=True)\n",
    "\n",
    "# Adjust the order of columns\n",
    "final_df = final_df[[\n",
    "    'report_date', \n",
    "    'customer_id', \n",
    "    'cookie_id', \n",
    "    'ga_session_id',\t\n",
    "    'event_timestamp_visit',\n",
    "    'visit_factory',\n",
    "    'event_timestamp_click',\n",
    "    'factory_product_click'\n",
    "]]\n",
    "\n",
    "result_df = visit_factory.merge(\n",
    "    final_df,\n",
    "    left_on=['customer_id', 'ga_session_id', 'event_timestamp'],\n",
    "    right_on=['customer_id', 'ga_session_id', 'event_timestamp_visit'],\n",
    "    how='left'\n",
    ")\n",
    "\n",
    "# Drop specified columns from the result DataFrame\n",
    "result_df_dropped = result_df.drop(['report_date_y', 'cookie_id_y', 'event_timestamp_visit', 'visit_factory'], axis=1)\n",
    "\n",
    "# Rename the 'event_value' column to 'visit_factory'\n",
    "result_df_dropped = result_df_dropped.rename(columns={'event_value': 'visit_factory'})\n",
    "\n",
    "# Save to CSV\n",
    "result_df_dropped.to_csv(\"result_df.csv\")"
   ]
  },
  {
   "cell_type": "code",
   "execution_count": 64,
   "metadata": {},
   "outputs": [
    {
     "name": "stdout",
     "output_type": "stream",
     "text": [
      "                                         product_name               product_id\n",
      "0   Organic Tart Cherry Extract 10:1 by Hunan Huakang   108928-HNHUAKANG-11283\n",
      "1      Epimedium Icariin 10% by Ingredients by Nature   106714-000-10481-10281\n",
      "2        Selenium Yeast Powder 2000ppm by Angel Yeast        43910-ANGEL-11426\n",
      "3   L-Selenomethionine 5000 DCP (Selenium 0.5%) by...               69090-STEL\n",
      "4   L-Selenomethionine 5000 MD (Selenium 0.5%) by ...        69091-NOVEL-12874\n",
      "5   L-Selenomethionine 5000 DCP (Selenium 0.5%) by...     108785-SALVICI-12685\n",
      "8   Ashwagandha Extract 10% Withanolides by Gravim...       109684-NOVEL-12874\n",
      "11                         Selenium Glycinate by Aobo        106824-AOBO-11080\n",
      "12  L-Selenomethionine 5000 DCP (Selenium 0.5%) by...      69090-SALVICI-99999\n",
      "13               Tribulus Extract 95% Saponins by TRG          18912-TRG-11248\n",
      "14  Organic Epimedium Leaf Powder (BRC Certified F...        38809-QIMEI-11712\n",
      "15                                  Allulose by Qimei       108838-QIMEI-11712\n",
      "16              Organic Red Beet Root Powder by Qimei        16225-QIMEI-11712\n",
      "17         Organic Ashwagandha Root Powder by Unicorn   93802-UNICORNNTT-11782\n",
      "18  Organic Ashwagandha Root Powder Steam Treated ...        107077-JKBP-12306\n",
      "19  Moringa Oleifera Leaf Extract 30% Saponnins by...        109047-JKBP-12306\n",
      "20  Organic Tribulus Terrestris Powder Steam Treat...        109307-JKBP-12306\n",
      "21  Tongkat Ali Powder Steam Treated by JK Botanicals        107097-JKBP-12306\n",
      "22  Organic Nigella Sativa Powder Steam Treated by...        107110-JKBP-12306\n",
      "24      Tongkat Ali Extract 1% Eurycomanone by Heking    109852-CSHEKING-12329\n",
      "25              Valerian Root Extract  10:1 by Heking    109733-CSHEKING-12329\n",
      "26              Tongkat Ali Root Extract 200:1 by TRG         109258-TRG-11248\n",
      "27  Multi Collagen Blend-No HA Types I, II, III, V...     25983-CONNOILS-99999\n",
      "28  MCT Oil Powder 50% on Soluble Tapioca Fiber by...     89423-CONNOILS-99999\n",
      "30            Black Cumin Seed Oil Virgin by Connoils     99352-CONNOILS-99999\n",
      "31                   Betaine Anhydrous by Jinan Jiuan        80600-JIUAN-11231\n",
      "32                        Betaine Anhydrous by Aocter       80600-AOCTER-99999\n",
      "33                         Glycine by Usha Industries        109504-USHA-12685\n",
      "34        Horny Goat Weed Extract 10% Flavones by TRG          38801-TRG-11248\n",
      "35           Polygonum Cuspidatum Extract 10:1 by TRG          44030-TRG-11248\n",
      "37         Horny Goat Weed Extract 10% Icariin by TRG          38802-TRG-11248\n",
      "40               Tribulus Extract 80% Saponins by TRG          18914-TRG-11248\n",
      "41        Horny Goat Weed Extract 10% Icariins by TRG          38803-TRG-11248\n",
      "49            Epimedium Extract 10% Icariin by Heking    107898-CSHEKING-12329\n"
     ]
    }
   ],
   "source": [
    "# 分割event_value列\n",
    "product_view[['product_name', 'product_id']] = product_view['event_value'].str.split('\\|\\|\\|', expand=True)\n",
    "\n",
    "# 删除原始的event_value列\n",
    "product_view.drop(columns=['event_value'], inplace=True)\n",
    "\n",
    "distinct_products = product_view[['product_name', 'product_id']].drop_duplicates()\n",
    "distinct_products['product_name'] = distinct_products['product_name'].str.strip()\n",
    "\n",
    "print(distinct_products)"
   ]
  },
  {
   "cell_type": "code",
   "execution_count": 65,
   "metadata": {},
   "outputs": [],
   "source": [
    "# 左连接result_df_dropped和distinct_products\n",
    "merged_df = pd.merge(result_df_dropped, distinct_products, how='left', left_on='factory_product_click', right_on='product_name')\n",
    "\n",
    "# 删除重复的product_name列\n",
    "merged_df.drop(columns=['product_name'], inplace=True)\n",
    "\n",
    "merged_df.to_csv(\"merged_df.csv\")"
   ]
  },
  {
   "cell_type": "code",
   "execution_count": null,
   "metadata": {},
   "outputs": [],
   "source": []
  },
  {
   "cell_type": "code",
   "execution_count": null,
   "metadata": {},
   "outputs": [],
   "source": []
  }
 ],
 "metadata": {
  "kernelspec": {
   "display_name": "Python 3",
   "language": "python",
   "name": "python3"
  },
  "language_info": {
   "codemirror_mode": {
    "name": "ipython",
    "version": 3
   },
   "file_extension": ".py",
   "mimetype": "text/x-python",
   "name": "python",
   "nbconvert_exporter": "python",
   "pygments_lexer": "ipython3",
   "version": "3.11.2"
  }
 },
 "nbformat": 4,
 "nbformat_minor": 2
}
